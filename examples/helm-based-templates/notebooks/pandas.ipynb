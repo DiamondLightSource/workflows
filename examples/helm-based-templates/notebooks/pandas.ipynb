{
 "cells": [
  {
   "cell_type": "markdown",
   "metadata": {},
   "source": [
    "# Data Manipulation and Visualization Example\n",
    "\n",
    "This notebook demonstrates:\n",
    "- Creating synthetic test data\n",
    "- Performing data manipulation with pandas\n",
    "- Visualizing the results with matplotlib"
   ]
  },
  {
   "cell_type": "code",
   "execution_count": null,
   "metadata": {},
   "outputs": [],
   "source": [
    "import os\n",
    "\n",
    "# Set environment variables\n",
    "os.environ[\"MPLCONFIGDIR\"] = \"/tmp/.config/matplotlib\"\n",
    "\n",
    "# Ensure the directories exist\n",
    "os.makedirs(os.environ[\"MPLCONFIGDIR\"], exist_ok=True)\n",
    "\n",
    "# Import required libraries\n",
    "import pandas as pd\n",
    "import numpy as np\n",
    "import matplotlib.pyplot as plt\n",
    "\n",
    "# Set a random seed for reproducibility\n",
    "np.random.seed(42)"
   ]
  },
  {
   "cell_type": "code",
   "execution_count": null,
   "metadata": {},
   "outputs": [],
   "source": [
    "# Create synthetic test data\n",
    "dates = pd.date_range(start='2023-01-01', periods=100)\n",
    "categories = ['A', 'B', 'C']\n",
    "\n",
    "data = pd.DataFrame({\n",
    "    'Date': dates,\n",
    "    'Category': np.random.choice(categories, size=100),\n",
    "    'Value': np.random.normal(loc=50, scale=10, size=100)\n",
    "})\n",
    "\n",
    "# Display first few rows\n",
    "data.head()"
   ]
  },
  {
   "cell_type": "code",
   "execution_count": null,
   "metadata": {},
   "outputs": [],
   "source": [
    "# Data manipulation\n",
    "# 1. Add a rolling average column\n",
    "data['RollingAvg'] = data['Value'].rolling(window=7).mean()\n",
    "\n",
    "# 2. Group by Category and calculate mean value\n",
    "category_means = data.groupby('Category')['Value'].mean()\n",
    "category_means"
   ]
  },
  {
   "cell_type": "code",
   "execution_count": null,
   "metadata": {},
   "outputs": [],
   "source": [
    "# Visualization\n",
    "plt.figure(figsize=(12, 6))\n",
    "\n",
    "# Plot the original Value and Rolling Average for each category\n",
    "for cat in data['Category'].unique():\n",
    "    subset = data[data['Category'] == cat]\n",
    "    plt.plot(subset['Date'], subset['Value'], label=f'{cat} Value', alpha=0.3)\n",
    "    plt.plot(subset['Date'], subset['RollingAvg'], label=f'{cat} RollingAvg')\n",
    "\n",
    "plt.xlabel('Date')\n",
    "plt.ylabel('Value')\n",
    "plt.title('Value and Rolling Average by Category')\n",
    "plt.legend()\n",
    "plt.grid(True)\n",
    "plt.tight_layout()\n",
    "plt.show()"
   ]
  }
 ],
 "metadata": {
  "kernelspec": {
   "display_name": "Python 3",
   "language": "python",
   "name": "python3"
  },
  "language_info": {
   "name": "python",
   "version": ""
  }
 },
 "nbformat": 4,
 "nbformat_minor": 2
}
