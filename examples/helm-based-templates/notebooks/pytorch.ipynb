{
 "cells": [
  {
   "cell_type": "code",
   "execution_count": null,
   "id": "ec265546",
   "metadata": {
    "tags": [
     "parameters"
    ]
   },
   "outputs": [],
   "source": [
    "size = 512"
   ]
  },
  {
   "cell_type": "code",
   "execution_count": null,
   "id": "90c60418",
   "metadata": {},
   "outputs": [],
   "source": [
    "import torch\n",
    "import numpy as np\n",
    "assert torch.cuda.is_available(), \"Not running on GPU\"\n",
    "print(f\"Running on GPU\")\n",
    "mat_a = torch.rand(size,size,device=\"cuda\")\n",
    "mat_b = torch.rand(size,size,device=\"cuda\")\n",
    "product = (mat_a @ mat_b)\n",
    "norm_array = 255 * (product - product.min()) / product.max()\n",
    "array = norm_array.detach().cpu().numpy()"
   ]
  },
  {
   "cell_type": "code",
   "execution_count": null,
   "id": "002f6467",
   "metadata": {},
   "outputs": [],
   "source": [
    "import os.path\n",
    "from PIL import Image\n",
    "print(np.shape(array))\n",
    "image = Image.fromarray(array).convert(\"L\")\n",
    "print(\"Saving image...\")\n",
    "image.save(\"/tmp/image.png\", mode=\"L\")\n",
    "if os.path.isfile(\"/tmp/image.png\"):\n",
    "    print(\"Image saved at /tmp/image.png\")\n",
    "image.show()"
   ]
  },
  {
   "cell_type": "code",
   "execution_count": null,
   "id": "e4b3671e",
   "metadata": {},
   "outputs": [],
   "source": []
  }
 ],
 "metadata": {
  "kernelspec": {
   "display_name": "Python (Pyodide)",
   "language": "python",
   "name": "python"
  },
  "language_info": {
   "codemirror_mode": {
    "name": "python",
    "version": 3
   },
   "file_extension": ".py",
   "mimetype": "text/x-python",
   "name": "python",
   "nbconvert_exporter": "python",
   "pygments_lexer": "ipython3",
   "version": "3.8"
  }
 },
 "nbformat": 4,
 "nbformat_minor": 5
}
