{
  "cells": [
    {
      "cell_type": "code",
      "execution_count": null,
      "id": "b19c79e8-3a1a-4cf0-b908-a0e9eff13e71",
      "metadata": {
        "editable": true,
        "slideshow": {
          "slide_type": ""
        },
        "tags": [
          "parameters"
        ],
        "trusted": true
      },
      "outputs": [],
      "source": [
        "a = 3.1\n",
        "b = 2.3\n",
        "beamline = \"i07\""
      ]
    },
    {
      "cell_type": "code",
      "execution_count": null,
      "id": "af849376-ff59-4daa-b7ef-8f16b12530ca",
      "metadata": {
        "editable": true,
        "slideshow": {
          "slide_type": ""
        },
        "tags": [],
        "trusted": true
      },
      "outputs": [],
      "source": [
        "print(f\"Hello {beamline}\")\n",
        "print(f\"Sum is: {a+b}\")"
      ]
    }
  ],
  "metadata": {
    "kernelspec": {
      "display_name": "Python (Pyodide)",
      "language": "python",
      "name": "python"
    },
    "language_info": {
      "codemirror_mode": {
        "name": "python",
        "version": 3
      },
      "file_extension": ".py",
      "mimetype": "text/x-python",
      "name": "python",
      "nbconvert_exporter": "python",
      "pygments_lexer": "ipython3",
      "version": "3.8"
    }
  },
  "nbformat": 4,
  "nbformat_minor": 5
}
