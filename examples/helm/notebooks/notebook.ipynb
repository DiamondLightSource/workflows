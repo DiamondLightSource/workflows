{
  "cells": [
    {
      "cell_type": "code",
      "execution_count": null,
      "id": "5eadc0c0-d788-4f3f-b63c-97b7ccc45533",
      "metadata": {},
      "outputs": [],
      "source": [
        "print(\"Hello Argo Notebooks!\")"
      ]
    }
  ],
  "metadata": {
    "kernelspec": {
      "display_name": "Python 3 (ipykernel)",
      "language": "python",
      "name": "python3"
    },
    "language_info": {
      "codemirror_mode": {
        "name": "ipython",
        "version": 3
      },
      "file_extension": ".py",
      "mimetype": "text/x-python",
      "name": "python",
      "nbconvert_exporter": "python",
      "pygments_lexer": "ipython3",
      "version": "3.12.8"
    }
  },
  "nbformat": 4,
  "nbformat_minor": 5
}
